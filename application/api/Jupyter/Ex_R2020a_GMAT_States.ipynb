{
 "cells": [
  {
   "cell_type": "markdown",
   "metadata": {},
   "source": [
    "# State Management with the GMAT API \n",
    "The state data in GMAT can be a bit confusing.  This notebook introduces the state variables as used for a GMAT Spacecraft, and provides some pointers on the manipulation of the state data.\n",
    "\n",
    "## Prepare the GMAT Environment\n",
    "Before the API can be used, it needs to be loaded into the Python system and initialized using a GMAT startup file.  This can be done from the GMAT bin folder by importing the gmatpy module, but using that approach tends to leave files in the bin folder that may annoy other users.  Running from an outside folder takes a few steps, which have been captured in the load_gmat.py file in the GMAT api folder.  After preparing the API for use (see the API \"read me\" file, api/API_README.txt), copy load_gmat.py into the folder you are using for Jupyter notebooks.  Then import it:"
   ]
  },
  {
   "cell_type": "code",
   "execution_count": null,
   "metadata": {},
   "outputs": [],
   "source": [
    "from load_gmat import *"
   ]
  },
  {
   "cell_type": "markdown",
   "metadata": {},
   "source": [
    "## Configure a Spacecraft\n",
    "We'll need an object that provides the state.  Here's a basic spacecraft, along with a reference to the state data inside of the spacecraft:"
   ]
  },
  {
   "cell_type": "code",
   "execution_count": null,
   "metadata": {},
   "outputs": [],
   "source": [
    "sat = gmat.Construct(\"Spacecraft\",\"MySat\")\n",
    "iState = sat.GetState()"
   ]
  },
  {
   "cell_type": "markdown",
   "metadata": {},
   "source": [
    "The state reference here, iState, operates on the member of the Spacecraft object that GMAT uses when running a simulation.  The \"internal state,\" referenced by iState here, is the Earth-centered mean-of-J2000 equatorial representation of position and velocity of the spacecraft MySat.  The data is contained in a GmatState object:"
   ]
  },
  {
   "cell_type": "code",
   "execution_count": null,
   "metadata": {},
   "outputs": [],
   "source": [
    "iState"
   ]
  },
  {
   "cell_type": "markdown",
   "metadata": {},
   "source": [
    "GmatState objects are used to collect together an epoch and a vector of data.  These data can be accessed directly:"
   ]
  },
  {
   "cell_type": "code",
   "execution_count": null,
   "metadata": {},
   "outputs": [],
   "source": [
    "print(\"The state epoch is \", iState.GetEpoch(), \", the state has \", iState.GetSize(), \n",
    "      \" elements, and contains the data \", iState.GetState())"
   ]
  },
  {
   "cell_type": "markdown",
   "metadata": {},
   "source": [
    "The data shown here is the default GmatState vector data for a spacecraft.  The epoch is January 1, 2000 at 12:00:00.000 in TAIModJulian time, or 21545.00000039794 in A.1 ModJulian time.  Note that GMAT uses A.1 Mod Julian as its internal epoch system.  The state has 6 elements.  The position and velocity data are filled in with the dummy entries -999.999. \n",
    "## Working with Cartesian and Keplerian Representations\n",
    "A spacecraft in GMAT has a second collection of data: the state data for the spacecraft in the coordinate system set on the spacecraft.  These data are the spacecraft's \"display state,\" named that way because they are the data displayed to the user.  Users interact with the display state similarly to the way they interact with the scripting language.  Data for a Keplerian state can be set using the SetField() method, as shown here: "
   ]
  },
  {
   "cell_type": "code",
   "execution_count": null,
   "metadata": {},
   "outputs": [],
   "source": [
    "sat.SetField(\"StateType\", \"Keplerian\")\n",
    "sat.SetField(\"SMA\", 7015)\n",
    "sat.SetField(\"ECC\", 0.0011)\n",
    "sat.SetField(\"INC\", 98.6)\n",
    "sat.SetField(\"RAAN\", 75)\n",
    "sat.SetField(\"AOP\", 90)\n",
    "sat.SetField(\"TA\", 33.333)"
   ]
  },
  {
   "cell_type": "markdown",
   "metadata": {},
   "source": [
    "At this point it can appear to the user that the data is set, but it really is not.  The spacecraft object cannot interpret the state data.  The data set using SetField needs more information than a spacecraft object can provide by itself.  Specifically, the spacecraft here does not have a connected coordinate system.  Cartesian state data set on the spacecraft does not have connections defining the coordinate origin, nor the structures needed to set the orientation of the axes defining directions.  Additionally, the spacecraft does not have the the gravitational constant needed to interpret Keplerian data.\n",
    "\n",
    "In this uninitialized state, the spacecraft uses its GmatState buffer to hold the data entries.  We can see that the data is not yet fully populated by posting queries to the spacecraft:"
   ]
  },
  {
   "cell_type": "code",
   "execution_count": null,
   "metadata": {},
   "outputs": [],
   "source": [
    "print(\"The internal state buffer just holds preinitialization data (Keplerian here):\\n  \", iState.GetState())\n",
    "print(\"but access to the Keplerian state shows that it is not correct:\\n  \", sat.GetKeplerianState())"
   ]
  },
  {
   "cell_type": "markdown",
   "metadata": {},
   "source": [
    "The Keplerian state data is not correct because the GMAT objects are not yet initialized.  Once we initialize the system, the Keplerian state will be correct, and the internal state will be updated to the EarthMJ2000Eq system.  The interobject connections necessary for these settings are made by calling the API's Initialize() function::"
   ]
  },
  {
   "cell_type": "code",
   "execution_count": null,
   "metadata": {},
   "outputs": [],
   "source": [
    "gmat.Initialize()\n",
    "print(\"The initialized internal state buffer is EarthMJ2000Eq:\\n  \", iState.GetState())\n",
    "print(\"and the Keplerian state is correct:\\n  \", sat.GetKeplerianState())"
   ]
  },
  {
   "cell_type": "markdown",
   "metadata": {},
   "source": [
    "Changes made to the state variables are now applied to the state as expected:"
   ]
  },
  {
   "cell_type": "code",
   "execution_count": null,
   "metadata": {},
   "outputs": [],
   "source": [
    "sat.SetField(\"SMA\", 8000)\n",
    "print(\"Internal state:\\n \", iState.GetState())\n",
    "print(\"Cartesian:\\n \", sat.GetCartesianState())\n",
    "print(\"Keplerian:\\n \", sat.GetKeplerianState())\n",
    "print()\n",
    "sat.SetField(\"INC\", 45)\n",
    "print(\"Internal state:\\n \", iState.GetState())\n",
    "print(\"Cartesian:\\n \", sat.GetCartesianState())\n",
    "print(\"Keplerian:\\n \", sat.GetKeplerianState())\n",
    "print()\n",
    "sat.SetField(\"TA\", 50)\n",
    "print(\"Internal state:\\n \", iState.GetState())\n",
    "print(\"Cartesian:\\n \", sat.GetCartesianState())\n",
    "print(\"Keplerian:\\n \", sat.GetKeplerianState())"
   ]
  },
  {
   "cell_type": "markdown",
   "metadata": {},
   "source": [
    "## Changing Coordinate Systems\n",
    "The previous section shows how to access Cartesian and Keplerian representations of the system.  In this section we will work with a couple of different coordinate systems: an Earth fixed coordinate system named \"ECF\" and accessed using the Python reference ecf, and a solar ecliptic system named \"SolarEcliptic,\" referenced as sec.  These coordinate systems are built using the code "
   ]
  },
  {
   "cell_type": "code",
   "execution_count": null,
   "metadata": {},
   "outputs": [],
   "source": [
    "ecf = gmat.Construct(\"CoordinateSystem\", \"ECF\", \"Earth\", \"BodyFixed\")\n",
    "sec = gmat.Construct(\"CoordinateSystem\", \"SolarEcliptic\", \"Sun\", \"MJ2000Ec\")"
   ]
  },
  {
   "cell_type": "markdown",
   "metadata": {},
   "source": [
    "In this section, the spacecraft sat defined previously will be used with the Earth fixed coordinate system, and a copy of that spacecraft will be used with the solar ecliptic system.  GMAT's objects support a method, Copy(), that copies one object into another object of the same type.  Rather than set up a new spacecraft from scratch, we'll use that framework to get started by creating a new spacecraft and then setting the coordinate systems so that the original spacecraft uses the ECI coordinate system and the new spacecraft uses the solar ecliptic system."
   ]
  },
  {
   "cell_type": "code",
   "execution_count": null,
   "metadata": {},
   "outputs": [],
   "source": [
    "solsat = gmat.Construct(\"Spacecraft\",\"SolarSat\")\n",
    "solsat.Copy(sat)\n",
    "\n",
    "# Now set coordinate systems\n",
    "sat.SetField(\"CoordinateSystem\",\"ECF\")\n",
    "solsat.SetField(\"CoordinateSystem\",\"SolarEcliptic\")"
   ]
  },
  {
   "cell_type": "markdown",
   "metadata": {},
   "source": [
    "We've reset the coordinate system names on the spacecraft at this point, but have yet to reset the associated objects because the Initialize() function that connects objects together has not been called since making the reassignment.  The data reflects this state of the system:"
   ]
  },
  {
   "cell_type": "code",
   "execution_count": null,
   "metadata": {},
   "outputs": [],
   "source": [
    "# Show the data after setting the new coordinate systems, before initialization\n",
    "print(\"The spacecraft \", sat.GetName(), \" initialization state is \", sat.IsInitialized())\n",
    "print(\"The internal state buffer:  \", iState.GetState())\n",
    "print(\"The ECF Cartesian State:    \", sat.GetCartesianState())\n",
    "print(\"The ECF Keplerian State:    \", sat.GetKeplerianState())\n",
    "print()\n",
    "print(\"The spacecraft \", solsat.GetName(), \" initialization state is \", sat.IsInitialized())\n",
    "print(\"The internal state buffer (SolarSat):  \", solsat.GetState().GetState())\n",
    "print(\"The SolarEcliptic Cartesian State:     \", solsat.GetCartesianState())\n",
    "print(\"The SolarEcliptic Keplerian State:     \", solsat.GetKeplerianState())"
   ]
  },
  {
   "cell_type": "markdown",
   "metadata": {},
   "source": [
    "*Note that the initialization state reported here is a bug: resetting object references should toggle the initialization flag, but did not.*\n",
    "\n",
    "Once we initialize the system, replacing the coordinate system references with the correct objects, the data is once again correct:"
   ]
  },
  {
   "cell_type": "code",
   "execution_count": null,
   "metadata": {},
   "outputs": [],
   "source": [
    "# Connect the GMAT objects together\n",
    "gmat.Initialize()\n",
    "\n",
    "# And show the data in the new coordinate systems\n",
    "print(\"The internal state buffer:  \", iState.GetState())\n",
    "print(\"The ECF Cartesian State:    \", sat.GetCartesianState())\n",
    "print(\"The ECF Keplerian State:    \", sat.GetKeplerianState())\n",
    "print()\n",
    "print(\"The internal state buffer (SolarSat):  \", solsat.GetState().GetState())\n",
    "print(\"The SolarEcliptic Cartesian State:     \", solsat.GetCartesianState())\n",
    "print(\"The SolarEcliptic Keplerian State:     \", solsat.GetKeplerianState())"
   ]
  },
  {
   "cell_type": "code",
   "execution_count": null,
   "metadata": {},
   "outputs": [],
   "source": []
  }
 ],
 "metadata": {
  "kernelspec": {
   "display_name": "Python 3",
   "language": "python",
   "name": "python3"
  },
  "language_info": {
   "codemirror_mode": {
    "name": "ipython",
    "version": 3
   },
   "file_extension": ".py",
   "mimetype": "text/x-python",
   "name": "python",
   "nbconvert_exporter": "python",
   "pygments_lexer": "ipython3",
   "version": "3.7.4"
  }
 },
 "nbformat": 4,
 "nbformat_minor": 2
}
