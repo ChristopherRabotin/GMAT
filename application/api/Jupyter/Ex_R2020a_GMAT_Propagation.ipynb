{
 "cells": [
  {
   "cell_type": "markdown",
   "metadata": {},
   "source": [
    "# Propagation with the GMAT API \n",
    "This document walks you through the configuration and use of the GMAT API for propagation.\n",
    "\n",
    "## Prepare the GMAT Environment\n",
    "Before the API can be used, it needs to be loaded into the Python system and initialized using a GMAT startup file. This can be done from the GMAT bin folder by importing the gmatpy module, but using that approach tends to leave files in the bin folder that may annoy other users. Running from an outside folder takes a few steps, which have been captured in the load_gmat.py file in the GMAT api folder. After preparing the API for use (see the API \"read me\" file, api/API_README.txt), copy load_gmat.py into the folder you are using for Jupyter notebooks. Then import it:"
   ]
  },
  {
   "cell_type": "code",
   "execution_count": null,
   "metadata": {},
   "outputs": [],
   "source": [
    "from load_gmat import *\n",
    "import matplotlib.pyplot as plt"
   ]
  },
  {
   "cell_type": "markdown",
   "metadata": {},
   "source": [
    "## Configure a Spacecraft\n",
    "We'll need a spacecraft to propagate.  The following lines provide a basic Spacecraft configuration:"
   ]
  },
  {
   "cell_type": "code",
   "execution_count": null,
   "metadata": {},
   "outputs": [],
   "source": [
    "sat = gmat.Construct(\"Spacecraft\",\"LeoSat\")\n",
    "\n",
    "sat.SetField(\"DateFormat\", \"UTCGregorian\")\n",
    "sat.SetField(\"Epoch\", \"12 Mar 2020 15:00:00.000\")\n",
    "sat.SetField(\"CoordinateSystem\", \"EarthMJ2000Eq\")\n",
    "sat.SetField(\"DisplayStateType\", \"Keplerian\")\n",
    "sat.SetField(\"SMA\", 7005)\n",
    "sat.SetField(\"ECC\", 0.008)\n",
    "sat.SetField(\"INC\", 28.5)\n",
    "sat.SetField(\"RAAN\", 75)\n",
    "sat.SetField(\"AOP\", 90)\n",
    "sat.SetField(\"TA\", 45)\n",
    "\n",
    "sat.SetField(\"DryMass\", 50)\n",
    "sat.SetField(\"Cd\", 2.2)\n",
    "sat.SetField(\"Cr\", 1.8)\n",
    "sat.SetField(\"DragArea\", 1.5)\n",
    "sat.SetField(\"SRPArea\", 1.2)"
   ]
  },
  {
   "cell_type": "markdown",
   "metadata": {},
   "source": [
    "## Configure the Forces\n",
    "Next we'll set up a force model.  For this example, we'll use an Earth 8x8 potential model, with Sun and Moon point masses and Jacchia-Roberts drag.  In GMAT, forces are collected in the ODEModel class.  That class is scripted as a \"ForceModel\" in the script language.  The API accepts either.  The force model is built and its (empty) contents displayed using"
   ]
  },
  {
   "cell_type": "code",
   "execution_count": null,
   "metadata": {},
   "outputs": [],
   "source": [
    "fm = gmat.Construct(\"ForceModel\", \"TheForces\")\n",
    "fm.Help()"
   ]
  },
  {
   "cell_type": "markdown",
   "metadata": {},
   "source": [
    "## Add the Potential Field\n",
    "In this example, the spacecraft is in Earth orbit.  The largest force for the model is the Earth gravity field.  We'll set it to an 8x8 field and add it to the force model using the code"
   ]
  },
  {
   "cell_type": "code",
   "execution_count": null,
   "metadata": {},
   "outputs": [],
   "source": [
    "# An 8x8 JGM-3 Gravity Model\n",
    "earthgrav = gmat.Construct(\"GravityField\")\n",
    "earthgrav.SetField(\"BodyName\",\"Earth\")\n",
    "earthgrav.SetField(\"Degree\",8)\n",
    "earthgrav.SetField(\"Order\",8)\n",
    "earthgrav.SetField(\"PotentialFile\",\"JGM2.cof\")\n",
    "\n",
    "# Add forces into the ODEModel container\n",
    "fm.AddForce(earthgrav)"
   ]
  },
  {
   "cell_type": "markdown",
   "metadata": {},
   "source": [
    "## Add the other forces\n",
    "Next we'll build and add the Sun, Moon, and Drag forces, and then show the completed force model."
   ]
  },
  {
   "cell_type": "code",
   "execution_count": null,
   "metadata": {},
   "outputs": [],
   "source": [
    "# The Point Masses\n",
    "moongrav = gmat.Construct(\"PointMassForce\")\n",
    "moongrav.SetField(\"BodyName\",\"Luna\")\n",
    "sungrav = gmat.Construct(\"PointMassForce\")\n",
    "sungrav.SetField(\"BodyName\",\"Sun\")\n",
    "\n",
    "# Drag using Jacchia-Roberts\n",
    "jrdrag = gmat.Construct(\"DragForce\")\n",
    "jrdrag.SetField(\"AtmosphereModel\",\"JacchiaRoberts\")\n",
    "\n",
    "# Build and set the atmosphere for the model\n",
    "atmos = gmat.Construct(\"JacchiaRoberts\")\n",
    "jrdrag.SetReference(atmos)\n",
    "\n",
    "# Add all of the forces into the ODEModel container\n",
    "fm.AddForce(moongrav)\n",
    "fm.AddForce(sungrav)\n",
    "fm.AddForce(jrdrag)\n",
    "\n",
    "fm.Help()"
   ]
  },
  {
   "cell_type": "markdown",
   "metadata": {},
   "source": [
    "In GMAT, the force model scripting shows the settings for each force.  In the API, you can examine the settings for the individual forces:"
   ]
  },
  {
   "cell_type": "code",
   "execution_count": null,
   "metadata": {},
   "outputs": [],
   "source": [
    "earthgrav.Help()"
   ]
  },
  {
   "cell_type": "markdown",
   "metadata": {},
   "source": [
    "or, with a little work, the GMAT scripting for the complete force model:"
   ]
  },
  {
   "cell_type": "code",
   "execution_count": null,
   "metadata": {},
   "outputs": [],
   "source": [
    "print(fm.GetGeneratingString(0))"
   ]
  },
  {
   "cell_type": "markdown",
   "metadata": {},
   "source": [
    "## Configure the Integrator\n",
    "Finally, in order to propagate, we need an integrator.  For this example, we'll use a Prince-Dormand 7(8) Runge-Kutta integrator.  The propagator is set using the code"
   ]
  },
  {
   "cell_type": "code",
   "execution_count": null,
   "metadata": {},
   "outputs": [],
   "source": [
    "# Build the propagation container that connect the integrator, force model, and spacecraft together\n",
    "pdprop = gmat.Construct(\"Propagator\",\"PDProp\")\n",
    "\n",
    "# Create and assign a numerical integrator for use in the propagation\n",
    "gator = gmat.Construct(\"PrinceDormand78\", \"Gator\")\n",
    "pdprop.SetReference(gator)\n",
    "\n",
    "# Set some of the fields for the integration\n",
    "pdprop.SetField(\"InitialStepSize\", 60.0)\n",
    "pdprop.SetField(\"Accuracy\", 1.0e-12)\n",
    "pdprop.SetField(\"MinStep\", 0.0)"
   ]
  },
  {
   "cell_type": "markdown",
   "metadata": {},
   "source": [
    "## Connect the Objects Together\n",
    "Next the propagator needs its assigned force.  This assignment is made by passing the force model to the propagator: "
   ]
  },
  {
   "cell_type": "code",
   "execution_count": null,
   "metadata": {},
   "outputs": [],
   "source": [
    "# Assign the force model to the propagator\n",
    "pdprop.SetReference(fm)"
   ]
  },
  {
   "cell_type": "markdown",
   "metadata": {},
   "source": [
    "It also need to know the object that is propagated.  For this example, that is the spacecraft constructed above:"
   ]
  },
  {
   "cell_type": "code",
   "execution_count": null,
   "metadata": {},
   "outputs": [],
   "source": [
    "pdprop.AddPropObject(sat)"
   ]
  },
  {
   "cell_type": "markdown",
   "metadata": {},
   "source": [
    "## Initialize the System and Propagate a Step\n",
    "Finally, the system can be initialized and fired to see a single propagation step.  Some of the code displayed here will be folded into the API's Initialize() function.  For now, the steps needed to initialize the system for a propagation step are:"
   ]
  },
  {
   "cell_type": "code",
   "execution_count": null,
   "metadata": {},
   "outputs": [],
   "source": [
    "# Perform top level initialization\n",
    "gmat.Initialize()\n",
    "# Perform the integation subsysem initialization\n",
    "pdprop.PrepareInternals()\n",
    "\n",
    "# Refresh the integrator reference\n",
    "gator = pdprop.GetPropagator()"
   ]
  },
  {
   "cell_type": "markdown",
   "metadata": {},
   "source": [
    "and we can then propagate, and start accumulating the data"
   ]
  },
  {
   "cell_type": "code",
   "execution_count": null,
   "metadata": {},
   "outputs": [],
   "source": [
    "# Take a 60 second step, showing the state before and after, and start buffering\n",
    "# Buffers for the data\n",
    "time = []\n",
    "pos = []\n",
    "vel = []\n",
    "\n",
    "gatorstate = gator.GetState()\n",
    "t = 0.0\n",
    "r = []\n",
    "v = []\n",
    "for j in range(3):\n",
    "    r.append(gatorstate[j])\n",
    "    v.append(gatorstate[j+3])\n",
    "time.append(t)\n",
    "pos.append(r)\n",
    "vel.append(v)\n",
    "\n",
    "print(\"Starting state:\\n\", t, r, v)\n",
    "\n",
    "# Take a step and buffer it\n",
    "gator.Step(60.0)\n",
    "gatorstate = gator.GetState()\n",
    "t = t + 60.0\n",
    "r = []\n",
    "v = []\n",
    "for j in range(3):\n",
    "    r.append(gatorstate[j])\n",
    "    v.append(gatorstate[j+3])\n",
    "time.append(t)\n",
    "pos.append(r)\n",
    "vel.append(v)\n",
    "\n",
    "print(\"Propped state:\\n\", t, r, v)"
   ]
  },
  {
   "cell_type": "markdown",
   "metadata": {},
   "source": [
    "Finally, we can run for a few orbits and show the results"
   ]
  },
  {
   "cell_type": "code",
   "execution_count": null,
   "metadata": {
    "scrolled": false
   },
   "outputs": [],
   "source": [
    "for i in range(360):\n",
    "    # Take a step and buffer it\n",
    "    gator.Step(60.0)\n",
    "    gatorstate = gator.GetState()\n",
    "    t = t + 60.0\n",
    "    r = []\n",
    "    v = []\n",
    "    for j in range(3):\n",
    "        r.append(gatorstate[j])\n",
    "        v.append(gatorstate[j+3])\n",
    "    time.append(t)\n",
    "    pos.append(r)\n",
    "    vel.append(v)\n",
    "\n",
    "plt.rcParams['figure.figsize'] = (15, 5)\n",
    "positions = plt.plot(time, pos)"
   ]
  },
  {
   "cell_type": "markdown",
   "metadata": {},
   "source": [
    "The velocities can also be plotted:"
   ]
  },
  {
   "cell_type": "code",
   "execution_count": null,
   "metadata": {},
   "outputs": [],
   "source": [
    "velocities = plt.plot(time, vel)"
   ]
  },
  {
   "cell_type": "code",
   "execution_count": null,
   "metadata": {},
   "outputs": [],
   "source": []
  }
 ],
 "metadata": {
  "kernelspec": {
   "display_name": "Python 3",
   "language": "python",
   "name": "python3"
  },
  "language_info": {
   "codemirror_mode": {
    "name": "ipython",
    "version": 3
   },
   "file_extension": ".py",
   "mimetype": "text/x-python",
   "name": "python",
   "nbconvert_exporter": "python",
   "pygments_lexer": "ipython3",
   "version": "3.7.4"
  }
 },
 "nbformat": 4,
 "nbformat_minor": 2
}
